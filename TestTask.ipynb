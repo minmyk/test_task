{
 "cells": [
  {
   "cell_type": "code",
   "execution_count": 16,
   "metadata": {},
   "outputs": [],
   "source": [
    "from bs4 import BeautifulSoup\n",
    "import requests \n",
    "from datetime import date\n",
    "import random\n",
    "import re\n",
    "import numpy as np\n",
    "import pandas as pd\n",
    "from sklearn.feature_extraction.text import TfidfVectorizer\n",
    "from sklearn.linear_model import LogisticRegression\n",
    "from sklearn.pipeline import Pipeline\n",
    "from sklearn.model_selection import cross_val_score, StratifiedKFold"
   ]
  },
  {
   "cell_type": "code",
   "execution_count": 17,
   "metadata": {
    "scrolled": false
   },
   "outputs": [
    {
     "data": {
      "text/html": [
       "<div>\n",
       "<style scoped>\n",
       "    .dataframe tbody tr th:only-of-type {\n",
       "        vertical-align: middle;\n",
       "    }\n",
       "\n",
       "    .dataframe tbody tr th {\n",
       "        vertical-align: top;\n",
       "    }\n",
       "\n",
       "    .dataframe thead th {\n",
       "        text-align: right;\n",
       "    }\n",
       "</style>\n",
       "<table border=\"1\" class=\"dataframe\">\n",
       "  <thead>\n",
       "    <tr style=\"text-align: right;\">\n",
       "      <th></th>\n",
       "      <th>label</th>\n",
       "      <th>header</th>\n",
       "    </tr>\n",
       "  </thead>\n",
       "  <tbody>\n",
       "    <tr>\n",
       "      <td>0</td>\n",
       "      <td>1</td>\n",
       "      <td>Manchester United PLC Reports First Quarter Fi...</td>\n",
       "    </tr>\n",
       "    <tr>\n",
       "      <td>1</td>\n",
       "      <td>0</td>\n",
       "      <td>Fed Minutes Due Next Week</td>\n",
       "    </tr>\n",
       "    <tr>\n",
       "      <td>2</td>\n",
       "      <td>0</td>\n",
       "      <td>Manchester United plc Announces First Quarter ...</td>\n",
       "    </tr>\n",
       "    <tr>\n",
       "      <td>3</td>\n",
       "      <td>0</td>\n",
       "      <td>NuCana Announces FDA Clearance to Commence Pha...</td>\n",
       "    </tr>\n",
       "    <tr>\n",
       "      <td>4</td>\n",
       "      <td>0</td>\n",
       "      <td>Elucid - mHealth smart pill bottle to monitor ...</td>\n",
       "    </tr>\n",
       "    <tr>\n",
       "      <td>...</td>\n",
       "      <td>...</td>\n",
       "      <td>...</td>\n",
       "    </tr>\n",
       "    <tr>\n",
       "      <td>1614</td>\n",
       "      <td>0</td>\n",
       "      <td>Nuclear Energy Market Insight Inflation, Massi...</td>\n",
       "    </tr>\n",
       "    <tr>\n",
       "      <td>1615</td>\n",
       "      <td>0</td>\n",
       "      <td>E.ON Secures Tax Equity Financing from GE Ener...</td>\n",
       "    </tr>\n",
       "    <tr>\n",
       "      <td>1616</td>\n",
       "      <td>0</td>\n",
       "      <td>DGAP-News: E.ON SE: E.ON closes purchase of in...</td>\n",
       "    </tr>\n",
       "    <tr>\n",
       "      <td>1617</td>\n",
       "      <td>0</td>\n",
       "      <td>Parallel NOR Flash Market: Emerging Players Se...</td>\n",
       "    </tr>\n",
       "    <tr>\n",
       "      <td>1618</td>\n",
       "      <td>0</td>\n",
       "      <td>DGAP-News: E.ON SE: Planned takeover of innogy...</td>\n",
       "    </tr>\n",
       "  </tbody>\n",
       "</table>\n",
       "<p>1619 rows × 2 columns</p>\n",
       "</div>"
      ],
      "text/plain": [
       "      label                                             header\n",
       "0         1  Manchester United PLC Reports First Quarter Fi...\n",
       "1         0                          Fed Minutes Due Next Week\n",
       "2         0  Manchester United plc Announces First Quarter ...\n",
       "3         0  NuCana Announces FDA Clearance to Commence Pha...\n",
       "4         0  Elucid - mHealth smart pill bottle to monitor ...\n",
       "...     ...                                                ...\n",
       "1614      0  Nuclear Energy Market Insight Inflation, Massi...\n",
       "1615      0  E.ON Secures Tax Equity Financing from GE Ener...\n",
       "1616      0  DGAP-News: E.ON SE: E.ON closes purchase of in...\n",
       "1617      0  Parallel NOR Flash Market: Emerging Players Se...\n",
       "1618      0  DGAP-News: E.ON SE: Planned takeover of innogy...\n",
       "\n",
       "[1619 rows x 2 columns]"
      ]
     },
     "execution_count": 17,
     "metadata": {},
     "output_type": "execute_result"
    }
   ],
   "source": [
    "dataset = pd.read_csv('TestTask_imp.csv')\n",
    "dataset = dataset.drop(['Unnamed: 0', 'Unnamed: 4', 'Unnamed: 5', 'label.1'], axis=1)\n",
    "dataset.label = dataset.label.fillna(0)\n",
    "dataset.label = dataset.label.astype(int)\n",
    "dataset"
   ]
  },
  {
   "cell_type": "code",
   "execution_count": 18,
   "metadata": {},
   "outputs": [
    {
     "data": {
      "text/html": [
       "<div>\n",
       "<style scoped>\n",
       "    .dataframe tbody tr th:only-of-type {\n",
       "        vertical-align: middle;\n",
       "    }\n",
       "\n",
       "    .dataframe tbody tr th {\n",
       "        vertical-align: top;\n",
       "    }\n",
       "\n",
       "    .dataframe thead th {\n",
       "        text-align: right;\n",
       "    }\n",
       "</style>\n",
       "<table border=\"1\" class=\"dataframe\">\n",
       "  <thead>\n",
       "    <tr style=\"text-align: right;\">\n",
       "      <th></th>\n",
       "      <th>0</th>\n",
       "      <th>1</th>\n",
       "      <th>2</th>\n",
       "      <th>3</th>\n",
       "      <th>4</th>\n",
       "      <th>5</th>\n",
       "      <th>6</th>\n",
       "      <th>7</th>\n",
       "      <th>8</th>\n",
       "      <th>9</th>\n",
       "    </tr>\n",
       "  </thead>\n",
       "  <tbody>\n",
       "    <tr>\n",
       "      <td>0</td>\n",
       "      <td>0.722222</td>\n",
       "      <td>0.777778</td>\n",
       "      <td>0.8</td>\n",
       "      <td>0.777778</td>\n",
       "      <td>0.864865</td>\n",
       "      <td>0.923077</td>\n",
       "      <td>0.864865</td>\n",
       "      <td>0.756757</td>\n",
       "      <td>0.516129</td>\n",
       "      <td>0.756757</td>\n",
       "    </tr>\n",
       "  </tbody>\n",
       "</table>\n",
       "</div>"
      ],
      "text/plain": [
       "          0         1    2         3         4         5         6         7  \\\n",
       "0  0.722222  0.777778  0.8  0.777778  0.864865  0.923077  0.864865  0.756757   \n",
       "\n",
       "          8         9  \n",
       "0  0.516129  0.756757  "
      ]
     },
     "execution_count": 18,
     "metadata": {},
     "output_type": "execute_result"
    }
   ],
   "source": [
    "tfidf = TfidfVectorizer(analyzer='word', stop_words='english', ngram_range=(1, 3), max_features=500, lowercase=True)\n",
    "lr = LogisticRegression(C=1.0, random_state=43, solver='lbfgs')\n",
    "pipe = Pipeline([\n",
    "    ('tfidf', tfidf),\n",
    "    ('lr', lr)\n",
    "])\n",
    "skf = StratifiedKFold(n_splits=10, shuffle=True, random_state=43)\n",
    "pd.DataFrame([cross_val_score(pipe, dataset.header, dataset.label, scoring='f1', cv=skf)])\n",
    "#np.mean(cv_res)"
   ]
  },
  {
   "cell_type": "code",
   "execution_count": 19,
   "metadata": {},
   "outputs": [
    {
     "data": {
      "text/plain": [
       "Pipeline(memory=None,\n",
       "         steps=[('tfidf',\n",
       "                 TfidfVectorizer(analyzer='word', binary=False,\n",
       "                                 decode_error='strict',\n",
       "                                 dtype=<class 'numpy.float64'>,\n",
       "                                 encoding='utf-8', input='content',\n",
       "                                 lowercase=True, max_df=1.0, max_features=500,\n",
       "                                 min_df=1, ngram_range=(1, 3), norm='l2',\n",
       "                                 preprocessor=None, smooth_idf=True,\n",
       "                                 stop_words='english', strip_accents=None,\n",
       "                                 sublinear_tf=False,\n",
       "                                 token_pattern='(?u)\\\\b\\\\w\\\\w+\\\\b',\n",
       "                                 tokenizer=None, use_idf=True,\n",
       "                                 vocabulary=None)),\n",
       "                ('lr',\n",
       "                 LogisticRegression(C=1.0, class_weight=None, dual=False,\n",
       "                                    fit_intercept=True, intercept_scaling=1,\n",
       "                                    l1_ratio=None, max_iter=100,\n",
       "                                    multi_class='warn', n_jobs=None,\n",
       "                                    penalty='l2', random_state=43,\n",
       "                                    solver='lbfgs', tol=0.0001, verbose=0,\n",
       "                                    warm_start=False))],\n",
       "         verbose=False)"
      ]
     },
     "execution_count": 19,
     "metadata": {},
     "output_type": "execute_result"
    }
   ],
   "source": [
    "pipe.fit(dataset.header, dataset.label)"
   ]
  },
  {
   "cell_type": "code",
   "execution_count": 20,
   "metadata": {},
   "outputs": [
    {
     "data": {
      "text/plain": [
       "array([[0.74125854, 0.25874146],\n",
       "       [0.13490571, 0.86509429]])"
      ]
     },
     "execution_count": 20,
     "metadata": {},
     "output_type": "execute_result"
    }
   ],
   "source": [
    "samples = [\n",
    "    ' report',\n",
    "    'trading report'\n",
    "]\n",
    "pipe\n",
    "pipe.predict_proba(samples)"
   ]
  },
  {
   "cell_type": "code",
   "execution_count": 21,
   "metadata": {},
   "outputs": [],
   "source": [
    "def get_companys_earnings_releases(\n",
    "    pipe,\n",
    "    day=date.today().strftime(\"%d\"), \n",
    "    month=date.today().strftime(\"%B\")[:3], \n",
    "    index=None\n",
    "    ):\n",
    "    url = 'https://www.marketwatch.com/tools/earningscalendar'\n",
    "    companies = BeautifulSoup(requests.get(url).text, 'lxml').find(\"div\", {\"id\":month+day+\"page\" }).findAll('a')\n",
    "    try:\n",
    "        selected_company = companies[min(index, len(companies))] if index else random.choice(companies)\n",
    "        company_full_info =  {'company': selected_company.text, 'url': 'https://www.marketwatch.com' + selected_company['href']}\n",
    "        company_soup = BeautifulSoup(requests.get(company_full_info[\"url\"]).text, 'lxml')\n",
    "        press_releases = company_soup.find(\"div\", {\"class\":\"collection__list j-scrollElement\", \"data-type\":\"PressReleases\"}).findAll('a')\n",
    "        press_releases_full_info = [{'url': row['href'], 'name': row.text.strip()} for row in press_releases] \n",
    "        earnings_releases = pipe.predict([row.text.strip() for row in press_releases])\n",
    "        index = list(earnings_releases).index(1)\n",
    "        return press_releases_full_info[index] \n",
    "    except IndexError:\n",
    "        print(\"No companies available for selected date.\")\n",
    "        return None\n",
    "    except AttributeError:\n",
    "        print(\"No press releases for selected company: \" + str(company_full_info['company']))\n",
    "        return None\n",
    "    except ValueError:\n",
    "        print(\"No earnings releases for selected company: \" + str(company_full_info['company']))\n",
    "        return None"
   ]
  },
  {
   "cell_type": "code",
   "execution_count": 23,
   "metadata": {},
   "outputs": [
    {
     "data": {
      "text/plain": [
       "{'url': 'https://www.marketwatch.com/press-release/beacon-roofing-supply-reports-fourth-quarter-and-fiscal-year-2019-results-2019-11-25?mod=mw_quote_news',\n",
       " 'name': 'Beacon Roofing Supply Reports Fourth Quarter and Fiscal Year 2019 Results'}"
      ]
     },
     "execution_count": 23,
     "metadata": {},
     "output_type": "execute_result"
    }
   ],
   "source": [
    "get_companys_earnings_releases(pipe, index=2, day='25')"
   ]
  },
  {
   "cell_type": "code",
   "execution_count": null,
   "metadata": {},
   "outputs": [],
   "source": []
  }
 ],
 "metadata": {
  "kernelspec": {
   "display_name": "Python 3",
   "language": "python",
   "name": "python3"
  },
  "language_info": {
   "codemirror_mode": {
    "name": "ipython",
    "version": 3
   },
   "file_extension": ".py",
   "mimetype": "text/x-python",
   "name": "python",
   "nbconvert_exporter": "python",
   "pygments_lexer": "ipython3",
   "version": "3.7.4"
  }
 },
 "nbformat": 4,
 "nbformat_minor": 2
}
