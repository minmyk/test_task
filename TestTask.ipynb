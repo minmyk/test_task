{
 "cells": [
  {
   "cell_type": "code",
   "execution_count": 185,
   "metadata": {},
   "outputs": [],
   "source": [
    "import requests \n",
    "import random\n",
    "import re\n",
    "import numpy as np\n",
    "import pandas as pd\n",
    "from bs4 import BeautifulSoup\n",
    "from datetime import date\n",
    "from itertools import chain\n",
    "from sklearn.feature_extraction.text import TfidfVectorizer\n",
    "from sklearn.linear_model import LogisticRegression\n",
    "from sklearn.pipeline import Pipeline\n",
    "from sklearn.model_selection import cross_val_score, StratifiedKFold\n",
    "from sklearn.ensemble import RandomForestClassifier\n",
    "from xgboost import XGBClassifier"
   ]
  },
  {
   "cell_type": "markdown",
   "metadata": {},
   "source": [
    "### Collecting the data"
   ]
  },
  {
   "cell_type": "code",
   "execution_count": 189,
   "metadata": {},
   "outputs": [],
   "source": [
    "def get_data(\n",
    "    day=date.today().strftime(\"%d\"), \n",
    "    month=date.today().strftime(\"%B\")[:3]\n",
    "    ):\n",
    "    url = 'https://www.marketwatch.com/tools/earningscalendar'\n",
    "    companies = BeautifulSoup(requests.get(url).text, 'lxml').find(\"div\", {\"id\":month+day+\"page\" }).findAll('a')\n",
    "    full_companies = [{'company': company.text, 'url': 'https://www.marketwatch.com' + company['href']}\n",
    "                       for company in companies]\n",
    "    companies_soup = [BeautifulSoup(requests.get(company[\"url\"]).text, 'lxml') for company in full_companies]\n",
    "\n",
    "    press_releases_find = [el.find('mw-scrollable-news', {'data-channel': re.compile('.*pressrelease.*')}\n",
    "                             ) for el in companies_soup]\n",
    "    \n",
    "    press_releases = [el.findAll('a') for el in press_releases_find if el]\n",
    "    for el in press_releases:\n",
    "        for it in el:\n",
    "            if it ==[]:\n",
    "                el.remove(it)\n",
    "    return press_releases"
   ]
  },
  {
   "cell_type": "code",
   "execution_count": 190,
   "metadata": {},
   "outputs": [
    {
     "data": {
      "text/plain": [
       "\"\\nresults= []\\nfor j in range(18,30):\\n    if j not in(23,24,28):\\n        print(j)\\n        results.append(get_data(day=str(j)))\\nraw_data = list(chain(*list(chain(*results))))\\ndata = np.array([(row['href'],  row.text.strip()) for row in raw_data])\\ndata = pd.DataFrame(data)\\ndata.columns= ['url', 'header']\\ndata['label'] = ['' for el in data.url]\\ndata.to_csv(r'TestTask_Train.csv')\\ndf =data.drop('url', axis=1)\\ndf = df.drop_duplicates()\\ndf.to_csv(r'TestTask__________.csv')\\n\""
      ]
     },
     "execution_count": 190,
     "metadata": {},
     "output_type": "execute_result"
    }
   ],
   "source": [
    "'''\n",
    "results= []\n",
    "for j in range(18,30):\n",
    "    if j not in(23,24,28):\n",
    "        print(j)\n",
    "        results.append(get_data(day=str(j)))\n",
    "raw_data = list(chain(*list(chain(*results))))\n",
    "data = np.array([(row['href'],  row.text.strip()) for row in raw_data])\n",
    "data = pd.DataFrame(data)\n",
    "data.columns= ['url', 'header']\n",
    "data['label'] = ['' for el in data.url]\n",
    "data.to_csv(r'TestTask_Train.csv')\n",
    "df =data.drop('url', axis=1)\n",
    "df = df.drop_duplicates()\n",
    "df.to_csv(r'TestTask__________.csv')\n",
    "'''"
   ]
  },
  {
   "cell_type": "markdown",
   "metadata": {},
   "source": [
    "### Visualizing "
   ]
  },
  {
   "cell_type": "code",
   "execution_count": 191,
   "metadata": {
    "scrolled": false
   },
   "outputs": [
    {
     "data": {
      "text/html": [
       "<div>\n",
       "<style scoped>\n",
       "    .dataframe tbody tr th:only-of-type {\n",
       "        vertical-align: middle;\n",
       "    }\n",
       "\n",
       "    .dataframe tbody tr th {\n",
       "        vertical-align: top;\n",
       "    }\n",
       "\n",
       "    .dataframe thead th {\n",
       "        text-align: right;\n",
       "    }\n",
       "</style>\n",
       "<table border=\"1\" class=\"dataframe\">\n",
       "  <thead>\n",
       "    <tr style=\"text-align: right;\">\n",
       "      <th></th>\n",
       "      <th>label</th>\n",
       "      <th>header</th>\n",
       "    </tr>\n",
       "  </thead>\n",
       "  <tbody>\n",
       "    <tr>\n",
       "      <td>0</td>\n",
       "      <td>1</td>\n",
       "      <td>Manchester United PLC Reports First Quarter Fi...</td>\n",
       "    </tr>\n",
       "    <tr>\n",
       "      <td>1</td>\n",
       "      <td>0</td>\n",
       "      <td>Fed Minutes Due Next Week</td>\n",
       "    </tr>\n",
       "    <tr>\n",
       "      <td>2</td>\n",
       "      <td>0</td>\n",
       "      <td>Manchester United plc Announces First Quarter ...</td>\n",
       "    </tr>\n",
       "    <tr>\n",
       "      <td>3</td>\n",
       "      <td>0</td>\n",
       "      <td>NuCana Announces FDA Clearance to Commence Pha...</td>\n",
       "    </tr>\n",
       "    <tr>\n",
       "      <td>4</td>\n",
       "      <td>0</td>\n",
       "      <td>Elucid - mHealth smart pill bottle to monitor ...</td>\n",
       "    </tr>\n",
       "    <tr>\n",
       "      <td>...</td>\n",
       "      <td>...</td>\n",
       "      <td>...</td>\n",
       "    </tr>\n",
       "    <tr>\n",
       "      <td>1614</td>\n",
       "      <td>0</td>\n",
       "      <td>Nuclear Energy Market Insight Inflation, Massi...</td>\n",
       "    </tr>\n",
       "    <tr>\n",
       "      <td>1615</td>\n",
       "      <td>0</td>\n",
       "      <td>E.ON Secures Tax Equity Financing from GE Ener...</td>\n",
       "    </tr>\n",
       "    <tr>\n",
       "      <td>1616</td>\n",
       "      <td>0</td>\n",
       "      <td>DGAP-News: E.ON SE: E.ON closes purchase of in...</td>\n",
       "    </tr>\n",
       "    <tr>\n",
       "      <td>1617</td>\n",
       "      <td>0</td>\n",
       "      <td>Parallel NOR Flash Market: Emerging Players Se...</td>\n",
       "    </tr>\n",
       "    <tr>\n",
       "      <td>1618</td>\n",
       "      <td>0</td>\n",
       "      <td>DGAP-News: E.ON SE: Planned takeover of innogy...</td>\n",
       "    </tr>\n",
       "  </tbody>\n",
       "</table>\n",
       "<p>1619 rows × 2 columns</p>\n",
       "</div>"
      ],
      "text/plain": [
       "      label                                             header\n",
       "0         1  Manchester United PLC Reports First Quarter Fi...\n",
       "1         0                          Fed Minutes Due Next Week\n",
       "2         0  Manchester United plc Announces First Quarter ...\n",
       "3         0  NuCana Announces FDA Clearance to Commence Pha...\n",
       "4         0  Elucid - mHealth smart pill bottle to monitor ...\n",
       "...     ...                                                ...\n",
       "1614      0  Nuclear Energy Market Insight Inflation, Massi...\n",
       "1615      0  E.ON Secures Tax Equity Financing from GE Ener...\n",
       "1616      0  DGAP-News: E.ON SE: E.ON closes purchase of in...\n",
       "1617      0  Parallel NOR Flash Market: Emerging Players Se...\n",
       "1618      0  DGAP-News: E.ON SE: Planned takeover of innogy...\n",
       "\n",
       "[1619 rows x 2 columns]"
      ]
     },
     "execution_count": 191,
     "metadata": {},
     "output_type": "execute_result"
    }
   ],
   "source": [
    "dataset = pd.read_csv('TestTask_imp.csv')\n",
    "dataset = dataset.drop(['Unnamed: 0', 'Unnamed: 4', 'Unnamed: 5', 'label.1'], axis=1)\n",
    "dataset.label = dataset.label.fillna(0)\n",
    "dataset.label = dataset.label.astype(int)\n",
    "dataset"
   ]
  },
  {
   "cell_type": "markdown",
   "metadata": {},
   "source": [
    "### Building and evaluating models"
   ]
  },
  {
   "cell_type": "code",
   "execution_count": null,
   "metadata": {},
   "outputs": [],
   "source": [
    "tfidf = TfidfVectorizer(analyzer='word', stop_words='english', ngram_range=(1, 3), max_features=500, lowercase=True)\n",
    "skf = StratifiedKFold(n_splits=10, shuffle=True, random_state=43)"
   ]
  },
  {
   "cell_type": "code",
   "execution_count": 170,
   "metadata": {},
   "outputs": [
    {
     "data": {
      "text/plain": [
       "0.7760226976356008"
      ]
     },
     "execution_count": 170,
     "metadata": {},
     "output_type": "execute_result"
    }
   ],
   "source": [
    "lr = LogisticRegression(C=1.0, random_state=43, solver='lbfgs')\n",
    "lr_pipe = Pipeline([\n",
    "    ('tfidf', tfidf),\n",
    "    ('lr', lr)\n",
    "])\n",
    "lr_cv_res = cross_val_score(lr_pipe, dataset.header, dataset.label, scoring='f1', cv=skf)\n",
    "np.mean(lr_cv_res)"
   ]
  },
  {
   "cell_type": "code",
   "execution_count": 171,
   "metadata": {},
   "outputs": [
    {
     "data": {
      "text/plain": [
       "0.8458651309615576"
      ]
     },
     "execution_count": 171,
     "metadata": {},
     "output_type": "execute_result"
    }
   ],
   "source": [
    "rfc = RandomForestClassifier(n_estimators=13, max_depth=51, random_state=43)\n",
    "rfc_pipe = Pipeline([\n",
    "    ('tfidf', tfidf),\n",
    "    ('rfc', rfc)\n",
    "])\n",
    "rfc_cv_res = cross_val_score(rfc_pipe, dataset.header, dataset.label, scoring='f1', cv=skf)\n",
    "np.mean(rfc_cv_res)"
   ]
  },
  {
   "cell_type": "code",
   "execution_count": 172,
   "metadata": {},
   "outputs": [
    {
     "data": {
      "text/plain": [
       "0.8466538386929765"
      ]
     },
     "execution_count": 172,
     "metadata": {},
     "output_type": "execute_result"
    }
   ],
   "source": [
    "xgb = XGBClassifier(max_depth=14, gamma=0.1, min_child_weight=1, random_state=43)\n",
    "xgb_pipe = Pipeline([\n",
    "    ('tfidf', tfidf),\n",
    "    ('xgb', xgb)\n",
    "])\n",
    "xgb_cv_res = cross_val_score(xgb_pipe, dataset.header, dataset.label, scoring='f1', cv=skf)\n",
    "np.mean(xgb_cv_res)"
   ]
  },
  {
   "cell_type": "code",
   "execution_count": 174,
   "metadata": {},
   "outputs": [
    {
     "data": {
      "text/plain": [
       "(array([0, 1]), array([0, 1]), array([0, 1]))"
      ]
     },
     "execution_count": 174,
     "metadata": {},
     "output_type": "execute_result"
    }
   ],
   "source": [
    "lr_pipe.fit(dataset.header, dataset.label)\n",
    "rfc_pipe.fit(dataset.header, dataset.label)\n",
    "xgb_pipe.fit(dataset.header, dataset.label)\n",
    "samples = [\n",
    "    'random sentence about earnings report',\n",
    "    'company reports fourth quarter results'\n",
    "]\n",
    "lr_pipe.predict(samples), rfc_pipe.predict(samples), xgb_pipe.predict(samples)"
   ]
  },
  {
   "cell_type": "markdown",
   "metadata": {},
   "source": [
    "### Main function"
   ]
  },
  {
   "cell_type": "code",
   "execution_count": 192,
   "metadata": {},
   "outputs": [],
   "source": [
    "def get_companys_earnings_releases(\n",
    "    pipe,\n",
    "    day=date.today().strftime(\"%d\"), \n",
    "    month=date.today().strftime(\"%B\")[:3], \n",
    "    index=None\n",
    "    ):\n",
    "    url = 'https://www.marketwatch.com/tools/earningscalendar'\n",
    "    companies = BeautifulSoup(requests.get(url).text, 'lxml').find(\"div\", {\"id\":month+day+\"page\" }).findAll('a')\n",
    "    try:\n",
    "        selected_company = companies[min(index, len(companies))] if index else random.choice(companies)\n",
    "        company_full_info =  {'company': selected_company.text, 'url': 'https://www.marketwatch.com' + selected_company['href']}\n",
    "        company_soup = BeautifulSoup(requests.get(company_full_info[\"url\"]).text, 'lxml')\n",
    "        press_releases = company_soup.find(\"div\", {\"class\":\"collection__list j-scrollElement\", \"data-type\":\"PressReleases\"}).findAll('a')\n",
    "        press_releases_full_info = [{'url': row['href'], 'name': row.text.strip()} for row in press_releases] \n",
    "        earnings_releases = pipe.predict([row.text.strip() for row in press_releases])\n",
    "        index = list(earnings_releases).index(1)\n",
    "        return press_releases_full_info[index] \n",
    "    except IndexError:\n",
    "        print(\"No companies available for selected date.\")\n",
    "        return None\n",
    "    except AttributeError:\n",
    "        print(\"No press releases for selected company: \" + str(company_full_info['company']))\n",
    "        return None\n",
    "    except ValueError:\n",
    "        print(\"No earnings releases for selected company: \" + str(company_full_info['company']))\n",
    "        return None"
   ]
  },
  {
   "cell_type": "markdown",
   "metadata": {},
   "source": [
    "### Comparing models on real data"
   ]
  },
  {
   "cell_type": "code",
   "execution_count": 181,
   "metadata": {},
   "outputs": [
    {
     "data": {
      "text/html": [
       "<div>\n",
       "<style scoped>\n",
       "    .dataframe tbody tr th:only-of-type {\n",
       "        vertical-align: middle;\n",
       "    }\n",
       "\n",
       "    .dataframe tbody tr th {\n",
       "        vertical-align: top;\n",
       "    }\n",
       "\n",
       "    .dataframe thead th {\n",
       "        text-align: right;\n",
       "    }\n",
       "</style>\n",
       "<table border=\"1\" class=\"dataframe\">\n",
       "  <thead>\n",
       "    <tr style=\"text-align: right;\">\n",
       "      <th></th>\n",
       "      <th>url</th>\n",
       "      <th>name</th>\n",
       "    </tr>\n",
       "  </thead>\n",
       "  <tbody>\n",
       "    <tr>\n",
       "      <td>0</td>\n",
       "      <td>https://www.marketwatch.com/press-release/beac...</td>\n",
       "      <td>Beacon Roofing Supply Reports Fourth Quarter a...</td>\n",
       "    </tr>\n",
       "    <tr>\n",
       "      <td>1</td>\n",
       "      <td>https://www.marketwatch.com/press-release/beac...</td>\n",
       "      <td>Beacon Roofing Supply Reports Fourth Quarter a...</td>\n",
       "    </tr>\n",
       "    <tr>\n",
       "      <td>2</td>\n",
       "      <td>https://www.marketwatch.com/press-release/beac...</td>\n",
       "      <td>Beacon Roofing Supply Reports Fourth Quarter a...</td>\n",
       "    </tr>\n",
       "  </tbody>\n",
       "</table>\n",
       "</div>"
      ],
      "text/plain": [
       "                                                 url  \\\n",
       "0  https://www.marketwatch.com/press-release/beac...   \n",
       "1  https://www.marketwatch.com/press-release/beac...   \n",
       "2  https://www.marketwatch.com/press-release/beac...   \n",
       "\n",
       "                                                name  \n",
       "0  Beacon Roofing Supply Reports Fourth Quarter a...  \n",
       "1  Beacon Roofing Supply Reports Fourth Quarter a...  \n",
       "2  Beacon Roofing Supply Reports Fourth Quarter a...  "
      ]
     },
     "execution_count": 181,
     "metadata": {},
     "output_type": "execute_result"
    }
   ],
   "source": [
    "pd.DataFrame([get_companys_earnings_releases(lr_pipe, index=2, day='25'),\n",
    "              get_companys_earnings_releases(rfc_pipe, index=2, day='25'),\n",
    "              get_companys_earnings_releases(xgb_pipe, index=2, day='25'),\n",
    "             ])"
   ]
  },
  {
   "cell_type": "code",
   "execution_count": 57,
   "metadata": {},
   "outputs": [
    {
     "data": {
      "text/plain": [
       "{'url': 'https://www.marketwatch.com/press-release/fro---third-quarter-and-nine-months-2019-results-2019-11-27?mod=mw_quote_news',\n",
       " 'name': 'FRO - Third Quarter and Nine Months 2019 Results'}"
      ]
     },
     "execution_count": 57,
     "metadata": {},
     "output_type": "execute_result"
    }
   ],
   "source": [
    "get_companys_earnings_releases(lr_pipe)"
   ]
  }
 ],
 "metadata": {
  "kernelspec": {
   "display_name": "Python 3",
   "language": "python",
   "name": "python3"
  },
  "language_info": {
   "codemirror_mode": {
    "name": "ipython",
    "version": 3
   },
   "file_extension": ".py",
   "mimetype": "text/x-python",
   "name": "python",
   "nbconvert_exporter": "python",
   "pygments_lexer": "ipython3",
   "version": "3.7.4"
  }
 },
 "nbformat": 4,
 "nbformat_minor": 2
}
